{
 "cells": [
  {
   "cell_type": "code",
   "execution_count": 3,
   "metadata": {
    "executionInfo": {
     "elapsed": 21550,
     "status": "ok",
     "timestamp": 1740893970247,
     "user": {
      "displayName": "Jiheng Li",
      "userId": "01318088611642014975"
     },
     "user_tz": 360
    },
    "id": "s1WF8I20izYM"
   },
   "outputs": [],
   "source": [
    "import requests\n",
    "import pandas as pd\n",
    "import time\n",
    "import json\n",
    "import re\n",
    "import yfinance as yf\n",
    "import torch\n",
    "import numpy as np\n",
    "from transformers import pipeline\n",
    "from datasets import Dataset\n",
    "from vaderSentiment.vaderSentiment import SentimentIntensityAnalyzer\n",
    "from datetime import datetime, timedelta\n",
    "from bs4 import BeautifulSoup\n",
    "import matplotlib.pyplot as plt\n",
    "from sklearn.model_selection import train_test_split\n",
    "from xgboost import XGBRegressor\n",
    "from sklearn.metrics import mean_absolute_error\n",
    "import tensorflow as tf\n",
    "from scipy.signal import savgol_filter\n",
    "from tensorflow.keras.models import Sequential\n",
    "from tensorflow.keras.layers import LSTM, Dense"
   ]
  },
  {
   "cell_type": "code",
   "execution_count": 33,
   "metadata": {
    "executionInfo": {
     "elapsed": 14,
     "status": "ok",
     "timestamp": 1740868688083,
     "user": {
      "displayName": "Jiheng Li",
      "userId": "01318088611642014975"
     },
     "user_tz": 360
    },
    "id": "8KoHBd_HvxUh"
   },
   "outputs": [],
   "source": [
    "NEWS_API_KEY = \"8c000f53b56448cf98ceb1468d1c6cbd\"\n",
    "GDELT_URL = \"https://api.gdeltproject.org/api/v2/doc/doc\"\n",
    "headers = {\n",
    "    \"User-Agent\": \"Mozilla/5.0 (Windows NT 10.0; Win64; x64) AppleWebKit/537.36 (KHTML, like Gecko) Chrome/110.0.0.0 Safari/537.36\"\n",
    "}\n",
    "\n",
    "# ---------------------- 1. NewsAPI ----------------------\n",
    "def fetch_newsapi_news(query=\"bitcoin\", page_size=20):\n",
    "    url = f\"https://newsapi.org/v2/everything?q={query}&pageSize={page_size}&apiKey={NEWS_API_KEY}\"\n",
    "    response = requests.get(url)\n",
    "    if response.status_code == 200:\n",
    "        return response.json()[\"articles\"]\n",
    "    else:\n",
    "        print(f\"NewsAPI Request Failure: {response.status_code}\")\n",
    "        return []\n",
    "\n",
    "# ---------------------- 2. GDELT ----------------------\n",
    "def fetch_gdelt_news(start_date=\"20170101000000\", end_date=\"20250301000000\"):\n",
    "    params = {\n",
    "        \"query\": \"(Bitcoin OR Cryptocurrency)\",\n",
    "        \"mode\": \"ArtList\",\n",
    "        \"format\": \"JSON\",\n",
    "        \"maxrecords\": 250,\n",
    "        \"sort\": \"DateDesc\",\n",
    "        \"startdatetime\": start_date,\n",
    "        \"enddatetime\": end_date,\n",
    "    }\n",
    "    response = requests.get(GDELT_URL, params=params, headers=headers)\n",
    "    clean_text = response.text.replace(\"\\n\", \"\").replace(\"\\r\", \"\").replace(\"\\x00\", \"\")\n",
    "    if response.status_code == 200:\n",
    "        data = json.loads(clean_text)\n",
    "        return data.get(\"articles\", [])\n",
    "    else:\n",
    "        print(f\"GDELT Request Failure: {response.status_code}\")\n",
    "        return []"
   ]
  },
  {
   "cell_type": "code",
   "execution_count": 34,
   "metadata": {
    "executionInfo": {
     "elapsed": 4,
     "status": "ok",
     "timestamp": 1740868690095,
     "user": {
      "displayName": "Jiheng Li",
      "userId": "01318088611642014975"
     },
     "user_tz": 360
    },
    "id": "u903m3G2zhRP"
   },
   "outputs": [],
   "source": [
    "# ---------------------- 3. Get GDELT Historical News in Batches ----------------------\n",
    "def fetch_gdelt_historical_news(start_year=2017, end_year=2025, interval_days=30):\n",
    "    all_news = []\n",
    "    start_date = datetime(start_year, 1, 1)\n",
    "    while start_date.year < end_year:\n",
    "        end_date = start_date + timedelta(days=interval_days)\n",
    "        start_str = start_date.strftime(\"%Y%m%d%H%M%S\")\n",
    "        end_str = end_date.strftime(\"%Y%m%d%H%M%S\")\n",
    "        print(f\"📡 Grab news from {start_str} to {end_str} ...\")\n",
    "        articles = fetch_gdelt_news(start_date=start_str, end_date=end_str)\n",
    "        if articles:\n",
    "            all_news.extend(articles)\n",
    "        start_date = end_date\n",
    "    return all_news"
   ]
  },
  {
   "cell_type": "code",
   "execution_count": 55,
   "metadata": {
    "executionInfo": {
     "elapsed": 9,
     "status": "ok",
     "timestamp": 1740869226508,
     "user": {
      "displayName": "Jiheng Li",
      "userId": "01318088611642014975"
     },
     "user_tz": 360
    },
    "id": "uqjPVmMG2k6A"
   },
   "outputs": [],
   "source": [
    "def convert_datetime(date_str):\n",
    "    if pd.isna(date_str) or not isinstance(date_str, str):\n",
    "        return pd.NaT\n",
    "    if \"T\" in date_str and len(date_str) == 16:\n",
    "        return pd.to_datetime(date_str, format=\"%Y%m%dT%H%M%SZ\", errors=\"coerce\")\n",
    "    elif \"T\" in date_str:\n",
    "        return pd.to_datetime(date_str, format=\"%Y-%m-%dT%H:%M:%SZ\", errors=\"coerce\")\n",
    "    else:\n",
    "        return pd.NaT\n",
    "def clean_text(text):\n",
    "    return re.sub(r\"<.*?>\", \"\", text)"
   ]
  },
  {
   "cell_type": "code",
   "execution_count": 36,
   "metadata": {
    "colab": {
     "base_uri": "https://localhost:8080/"
    },
    "collapsed": true,
    "executionInfo": {
     "elapsed": 85811,
     "status": "ok",
     "timestamp": 1740868779406,
     "user": {
      "displayName": "Jiheng Li",
      "userId": "01318088611642014975"
     },
     "user_tz": 360
    },
    "id": "sjwXsQa40Koy",
    "outputId": "5440cab0-1b47-410e-bfc7-60a174ab61c0"
   },
   "outputs": [
    {
     "name": "stdout",
     "output_type": "stream",
     "text": [
      "📡 Grab news from 20170101000000 to 20170131000000 ...\n",
      "📡 Grab news from 20170131000000 to 20170302000000 ...\n",
      "📡 Grab news from 20170302000000 to 20170401000000 ...\n",
      "📡 Grab news from 20170401000000 to 20170501000000 ...\n",
      "📡 Grab news from 20170501000000 to 20170531000000 ...\n",
      "📡 Grab news from 20170531000000 to 20170630000000 ...\n",
      "📡 Grab news from 20170630000000 to 20170730000000 ...\n",
      "📡 Grab news from 20170730000000 to 20170829000000 ...\n",
      "📡 Grab news from 20170829000000 to 20170928000000 ...\n",
      "📡 Grab news from 20170928000000 to 20171028000000 ...\n",
      "📡 Grab news from 20171028000000 to 20171127000000 ...\n",
      "📡 Grab news from 20171127000000 to 20171227000000 ...\n",
      "📡 Grab news from 20171227000000 to 20180126000000 ...\n",
      "📡 Grab news from 20180126000000 to 20180225000000 ...\n",
      "📡 Grab news from 20180225000000 to 20180327000000 ...\n",
      "📡 Grab news from 20180327000000 to 20180426000000 ...\n",
      "📡 Grab news from 20180426000000 to 20180526000000 ...\n",
      "📡 Grab news from 20180526000000 to 20180625000000 ...\n",
      "📡 Grab news from 20180625000000 to 20180725000000 ...\n",
      "📡 Grab news from 20180725000000 to 20180824000000 ...\n",
      "📡 Grab news from 20180824000000 to 20180923000000 ...\n",
      "📡 Grab news from 20180923000000 to 20181023000000 ...\n",
      "📡 Grab news from 20181023000000 to 20181122000000 ...\n",
      "📡 Grab news from 20181122000000 to 20181222000000 ...\n",
      "📡 Grab news from 20181222000000 to 20190121000000 ...\n",
      "📡 Grab news from 20190121000000 to 20190220000000 ...\n",
      "📡 Grab news from 20190220000000 to 20190322000000 ...\n",
      "📡 Grab news from 20190322000000 to 20190421000000 ...\n",
      "📡 Grab news from 20190421000000 to 20190521000000 ...\n",
      "📡 Grab news from 20190521000000 to 20190620000000 ...\n",
      "📡 Grab news from 20190620000000 to 20190720000000 ...\n",
      "📡 Grab news from 20190720000000 to 20190819000000 ...\n",
      "📡 Grab news from 20190819000000 to 20190918000000 ...\n",
      "📡 Grab news from 20190918000000 to 20191018000000 ...\n",
      "📡 Grab news from 20191018000000 to 20191117000000 ...\n",
      "📡 Grab news from 20191117000000 to 20191217000000 ...\n",
      "📡 Grab news from 20191217000000 to 20200116000000 ...\n",
      "📡 Grab news from 20200116000000 to 20200215000000 ...\n",
      "📡 Grab news from 20200215000000 to 20200316000000 ...\n",
      "📡 Grab news from 20200316000000 to 20200415000000 ...\n",
      "📡 Grab news from 20200415000000 to 20200515000000 ...\n",
      "📡 Grab news from 20200515000000 to 20200614000000 ...\n",
      "📡 Grab news from 20200614000000 to 20200714000000 ...\n",
      "📡 Grab news from 20200714000000 to 20200813000000 ...\n",
      "📡 Grab news from 20200813000000 to 20200912000000 ...\n",
      "📡 Grab news from 20200912000000 to 20201012000000 ...\n",
      "📡 Grab news from 20201012000000 to 20201111000000 ...\n",
      "📡 Grab news from 20201111000000 to 20201211000000 ...\n",
      "📡 Grab news from 20201211000000 to 20210110000000 ...\n",
      "📡 Grab news from 20210110000000 to 20210209000000 ...\n",
      "📡 Grab news from 20210209000000 to 20210311000000 ...\n",
      "📡 Grab news from 20210311000000 to 20210410000000 ...\n",
      "📡 Grab news from 20210410000000 to 20210510000000 ...\n",
      "📡 Grab news from 20210510000000 to 20210609000000 ...\n",
      "📡 Grab news from 20210609000000 to 20210709000000 ...\n",
      "📡 Grab news from 20210709000000 to 20210808000000 ...\n",
      "📡 Grab news from 20210808000000 to 20210907000000 ...\n",
      "📡 Grab news from 20210907000000 to 20211007000000 ...\n",
      "📡 Grab news from 20211007000000 to 20211106000000 ...\n",
      "📡 Grab news from 20211106000000 to 20211206000000 ...\n",
      "📡 Grab news from 20211206000000 to 20220105000000 ...\n",
      "📡 Grab news from 20220105000000 to 20220204000000 ...\n",
      "📡 Grab news from 20220204000000 to 20220306000000 ...\n",
      "📡 Grab news from 20220306000000 to 20220405000000 ...\n",
      "📡 Grab news from 20220405000000 to 20220505000000 ...\n",
      "📡 Grab news from 20220505000000 to 20220604000000 ...\n",
      "📡 Grab news from 20220604000000 to 20220704000000 ...\n",
      "📡 Grab news from 20220704000000 to 20220803000000 ...\n",
      "📡 Grab news from 20220803000000 to 20220902000000 ...\n",
      "📡 Grab news from 20220902000000 to 20221002000000 ...\n",
      "📡 Grab news from 20221002000000 to 20221101000000 ...\n",
      "📡 Grab news from 20221101000000 to 20221201000000 ...\n",
      "📡 Grab news from 20221201000000 to 20221231000000 ...\n",
      "📡 Grab news from 20221231000000 to 20230130000000 ...\n",
      "📡 Grab news from 20230130000000 to 20230301000000 ...\n",
      "📡 Grab news from 20230301000000 to 20230331000000 ...\n",
      "📡 Grab news from 20230331000000 to 20230430000000 ...\n",
      "📡 Grab news from 20230430000000 to 20230530000000 ...\n",
      "📡 Grab news from 20230530000000 to 20230629000000 ...\n",
      "📡 Grab news from 20230629000000 to 20230729000000 ...\n",
      "📡 Grab news from 20230729000000 to 20230828000000 ...\n",
      "📡 Grab news from 20230828000000 to 20230927000000 ...\n",
      "📡 Grab news from 20230927000000 to 20231027000000 ...\n",
      "📡 Grab news from 20231027000000 to 20231126000000 ...\n",
      "📡 Grab news from 20231126000000 to 20231226000000 ...\n",
      "📡 Grab news from 20231226000000 to 20240125000000 ...\n",
      "📡 Grab news from 20240125000000 to 20240224000000 ...\n",
      "📡 Grab news from 20240224000000 to 20240325000000 ...\n",
      "📡 Grab news from 20240325000000 to 20240424000000 ...\n",
      "📡 Grab news from 20240424000000 to 20240524000000 ...\n",
      "📡 Grab news from 20240524000000 to 20240623000000 ...\n",
      "📡 Grab news from 20240623000000 to 20240723000000 ...\n",
      "📡 Grab news from 20240723000000 to 20240822000000 ...\n",
      "📡 Grab news from 20240822000000 to 20240921000000 ...\n",
      "📡 Grab news from 20240921000000 to 20241021000000 ...\n",
      "📡 Grab news from 20241021000000 to 20241120000000 ...\n",
      "📡 Grab news from 20241120000000 to 20241220000000 ...\n",
      "📡 Grab news from 20241220000000 to 20250119000000 ...\n"
     ]
    }
   ],
   "source": [
    "# Get news from websites\n",
    "newsapi_articles = fetch_newsapi_news()\n",
    "gdelt_articles = fetch_gdelt_historical_news()"
   ]
  },
  {
   "cell_type": "code",
   "execution_count": 57,
   "metadata": {
    "colab": {
     "base_uri": "https://localhost:8080/"
    },
    "executionInfo": {
     "elapsed": 4900,
     "status": "ok",
     "timestamp": 1740869239863,
     "user": {
      "displayName": "Jiheng Li",
      "userId": "01318088611642014975"
     },
     "user_tz": 360
    },
    "id": "XWKdk-Ts2rOR",
    "outputId": "5d252de5-a018-4fc3-eff3-585a446c9418"
   },
   "outputs": [
    {
     "name": "stdout",
     "output_type": "stream",
     "text": [
      "🎯 Totally grabed 24518 news!\n"
     ]
    }
   ],
   "source": [
    "# Combine the data\n",
    "all_news = []\n",
    "\n",
    "for article in newsapi_articles:\n",
    "    all_news.append({\n",
    "        \"source\": \"NewsAPI\",\n",
    "        \"title\": article.get(\"title\", \"\"),\n",
    "        \"url\": article.get(\"url\", \"\"),\n",
    "        \"published_at\": convert_datetime(article.get(\"publishedAt\", \"\"))\n",
    "    })\n",
    "\n",
    "for article in gdelt_articles:\n",
    "    all_news.append({\n",
    "        \"source\": \"GDELT\",\n",
    "        \"title\": article.get(\"title\", \"\"),\n",
    "        \"url\": article.get(\"url\", \"\"),\n",
    "        \"published_at\": convert_datetime(article.get(\"seendate\", \"\"))\n",
    "    })\n",
    "\n",
    "df = pd.DataFrame(all_news)\n",
    "df[\"published_at\"] = df[\"published_at\"].dt.strftime(\"%Y-%m-%d %H:%M:%S\")\n",
    "df.to_csv(\"./dataset/bitcoin_news.csv\", index=False)\n",
    "print(f\"🎯 Totally grabed {len(all_news)} news!\")"
   ]
  },
  {
   "cell_type": "code",
   "execution_count": null,
   "metadata": {
    "executionInfo": {
     "elapsed": 28442,
     "status": "aborted",
     "timestamp": 1740870591156,
     "user": {
      "displayName": "Jiheng Li",
      "userId": "01318088611642014975"
     },
     "user_tz": 360
    },
    "id": "-Gc2UVX79DVo"
   },
   "outputs": [],
   "source": [
    "df = pd.read_csv(\"./dataset/bitcoin_news.csv\")\n",
    "df[\"title\"] = df[\"title\"].astype(str).apply(clean_text)\n",
    "df = df.drop_duplicates(subset=[\"title\"])\n",
    "df = df.sort_values(\"published_at\")\n",
    "\n",
    "df.to_csv(\"./dataset/bitcoin_news_cleaned.csv\", index=False)\n",
    "print(f\"✅ Clean finished! There's {len(df)} news left！\")"
   ]
  },
  {
   "cell_type": "code",
   "execution_count": 15,
   "metadata": {
    "colab": {
     "base_uri": "https://localhost:8080/"
    },
    "executionInfo": {
     "elapsed": 955,
     "status": "ok",
     "timestamp": 1740871009645,
     "user": {
      "displayName": "Jiheng Li",
      "userId": "01318088611642014975"
     },
     "user_tz": 360
    },
    "id": "FxXfffnlpCTn",
    "outputId": "358e08f4-89cb-4314-8911-c111bdcc7c99"
   },
   "outputs": [
    {
     "name": "stderr",
     "output_type": "stream",
     "text": [
      "Device set to use cuda:0\n"
     ]
    }
   ],
   "source": [
    "device = 0 if torch.cuda.is_available() else -1\n",
    "finbert = pipeline(\"text-classification\", model=\"ProsusAI/finbert\")\n",
    "def batch_crypto_sentiment(batch):\n",
    "    results = finbert(batch[\"title\"], truncation=True)\n",
    "    scores = []\n",
    "    for result in results:\n",
    "        if result[\"label\"] == \"positive\":\n",
    "            scores.append(result[\"score\"])\n",
    "        elif result[\"label\"] == \"negative\":\n",
    "            scores.append(-result[\"score\"])\n",
    "        else:\n",
    "            scores.append(0)\n",
    "    return {\"sentiment\": scores}"
   ]
  },
  {
   "cell_type": "code",
   "execution_count": 17,
   "metadata": {
    "colab": {
     "base_uri": "https://localhost:8080/",
     "height": 66,
     "referenced_widgets": [
      "c151320c0c5e440398a8fd3b3bc87f5f",
      "09b7567643334697a27b0f10a0ef4c1f",
      "9c52b1e87a014065818e303dd4fb9aa7",
      "6f638931c7a44193b818199d3b040dcd",
      "a3a0080699564b3687a2e94ffd23e4f4",
      "ad6681aa0c4f4ea89cbb5e11b04566a2",
      "f241d6fdeddd4328b2f6eacbd9ed8abe",
      "0e8cc797a99a4cce97727021101080a2",
      "20e1fdcb4ba740508ef2c20fa21dc419",
      "f0d88da39c2d44a59776dc9ca985b271",
      "30fc101a2b5e402098474469d24c1aee"
     ]
    },
    "executionInfo": {
     "elapsed": 166317,
     "status": "ok",
     "timestamp": 1740871224814,
     "user": {
      "displayName": "Jiheng Li",
      "userId": "01318088611642014975"
     },
     "user_tz": 360
    },
    "id": "iQHLeCnX7BhK",
    "outputId": "f9b48455-57d2-4715-9541-3e088ceb3342"
   },
   "outputs": [
    {
     "data": {
      "application/vnd.jupyter.widget-view+json": {
       "model_id": "c151320c0c5e440398a8fd3b3bc87f5f",
       "version_major": 2,
       "version_minor": 0
      },
      "text/plain": [
       "Map:   0%|          | 0/19655 [00:00<?, ? examples/s]"
      ]
     },
     "metadata": {},
     "output_type": "display_data"
    },
    {
     "name": "stdout",
     "output_type": "stream",
     "text": [
      "✅ Calculation finished!\n"
     ]
    }
   ],
   "source": [
    "df = pd.read_csv(\"./dataset/bitcoin_news_cleaned.csv\")\n",
    "df[\"published_at\"] = pd.to_datetime(df[\"published_at\"], errors=\"coerce\")\n",
    "df = df.dropna(subset=[\"title\"])\n",
    "\n",
    "dataset = Dataset.from_pandas(df[[\"title\"]])\n",
    "dataset = dataset.map(batch_crypto_sentiment, batched=True, batch_size=16)\n",
    "df[\"sentiment\"] = dataset[\"sentiment\"]\n",
    "\n",
    "# Calculate sentiment coefficient in 10 day window\n",
    "df.set_index(\"published_at\", inplace=True)\n",
    "df_resampled = df.resample(\"7D\")[\"sentiment\"].mean().reset_index()\n",
    "\n",
    "# save the result\n",
    "df_resampled.to_csv(\"./dataset/bitcoin_news_sentiment_finbert_10d.csv\", index=False)\n",
    "\n",
    "print(\"✅ Calculation finished!\")"
   ]
  },
  {
   "cell_type": "code",
   "execution_count": 29,
   "metadata": {
    "colab": {
     "base_uri": "https://localhost:8080/",
     "height": 564
    },
    "executionInfo": {
     "elapsed": 209,
     "status": "ok",
     "timestamp": 1740889746281,
     "user": {
      "displayName": "Jiheng Li",
      "userId": "01318088611642014975"
     },
     "user_tz": 360
    },
    "id": "S8Dwsv-b8vUG",
    "outputId": "10c1aad9-2d34-4db3-fdaa-a290de65caed"
   },
   "outputs": [
    {
     "data": {
      "image/png": "[encoded data removed]",
      "text/plain": [
       "<Figure size 1200x600 with 1 Axes>"
      ]
     },
     "metadata": {},
     "output_type": "display_data"
    }
   ],
   "source": [
    "# load data\n",
    "sentiment_7d = pd.read_csv(\"./dataset/bitcoin_news_sentiment_finbert_10d.csv\")\n",
    "sentiment_7d[\"published_at\"] = pd.to_datetime(sentiment_7d[\"published_at\"])\n",
    "sentiment_7d = sentiment_7d.dropna(subset=['sentiment'])\n",
    "sentiment_7d[\"sentiment\"] = np.sign(sentiment_7d[\"sentiment\"]) * np.log1p(np.abs(sentiment_7d[\"sentiment\"]) * 10)\n",
    "\n",
    "window_length = min(21, len(sentiment_7d[\"sentiment\"]) - 1)\n",
    "if window_length % 2 == 0:\n",
    "    window_length -= 1\n",
    "sentiment_7d[\"sentiment_diff\"] = sentiment_7d[\"sentiment\"].diff()\n",
    "\n",
    "# plot line\n",
    "smoothed_sentiment = savgol_filter(sentiment_7d[\"sentiment\"], window_length=window_length, polyorder=3)\n",
    "smoothed_diff = savgol_filter(sentiment_7d[\"sentiment_diff\"].fillna(0), window_length=window_length, polyorder=3)\n",
    "\n",
    "plt.figure(figsize=(12, 6))\n",
    "plt.scatter(sentiment_7d[\"published_at\"], sentiment_7d[\"sentiment\"], marker=\"o\", label=\"Sentiment Data\", alpha=0.5)\n",
    "plt.plot(sentiment_7d[\"published_at\"], smoothed_sentiment, color=\"red\", linewidth=2, label=\"Smoothed Sentiment Line\")\n",
    "plt.plot(sentiment_7d[\"published_at\"], smoothed_diff, color=\"blue\", linestyle=\"dashed\", linewidth=2, label=\"Sentiment Change Rate\")\n",
    "\n",
    "years = sentiment_7d[\"published_at\"].dt.year.unique()\n",
    "plt.xticks([pd.Timestamp(str(year)) for year in years], years, rotation=0)\n",
    "plt.xlabel(\"Year\")\n",
    "plt.ylabel(\"Sentiment Score\")\n",
    "plt.title(\"7-Day Average Sentiment Score Over Time\")\n",
    "plt.legend()\n",
    "plt.show()"
   ]
  },
  {
   "cell_type": "code",
   "execution_count": null,
   "metadata": {
    "id": "_AdMRELjA-UZ"
   },
   "outputs": [],
   "source": []
  }
 ],
 "metadata": {
  "colab": {
   "machine_shape": "hm",
   "provenance": []
  },
  "kernelspec": {
   "display_name": "Python 3",
   "name": "python3"
  },
  "language_info": {
   "codemirror_mode": {
    "name": "ipython",
    "version": 3
   },
   "file_extension": ".py",
   "mimetype": "text/x-python",
   "name": "python",
   "nbconvert_exporter": "python",
   "pygments_lexer": "ipython3",
   "version": "3.11.10"
  },
  "widgets": {
   "application/vnd.jupyter.widget-state+json": {
    "09b7567643334697a27b0f10a0ef4c1f": {
     "model_module": "@jupyter-widgets/controls",
     "model_module_version": "1.5.0",
     "model_name": "HTMLModel",
     "state": {
      "_dom_classes": [],
      "_model_module": "@jupyter-widgets/controls",
      "_model_module_version": "1.5.0",
      "_model_name": "HTMLModel",
      "_view_count": null,
      "_view_module": "@jupyter-widgets/controls",
      "_view_module_version": "1.5.0",
      "_view_name": "HTMLView",
      "description": "",
      "description_tooltip": null,
      "layout": "IPY_MODEL_ad6681aa0c4f4ea89cbb5e11b04566a2",
      "placeholder": "​",
      "style": "IPY_MODEL_f241d6fdeddd4328b2f6eacbd9ed8abe",
      "value": "Map: 100%"
     }
    },
    "0e8cc797a99a4cce97727021101080a2": {
     "model_module": "@jupyter-widgets/base",
     "model_module_version": "1.2.0",
     "model_name": "LayoutModel",
     "state": {
      "_model_module": "@jupyter-widgets/base",
      "_model_module_version": "1.2.0",
      "_model_name": "LayoutModel",
      "_view_count": null,
      "_view_module": "@jupyter-widgets/base",
      "_view_module_version": "1.2.0",
      "_view_name": "LayoutView",
      "align_content": null,
      "align_items": null,
      "align_self": null,
      "border": null,
      "bottom": null,
      "display": null,
      "flex": null,
      "flex_flow": null,
      "grid_area": null,
      "grid_auto_columns": null,
      "grid_auto_flow": null,
      "grid_auto_rows": null,
      "grid_column": null,
      "grid_gap": null,
      "grid_row": null,
      "grid_template_areas": null,
      "grid_template_columns": null,
      "grid_template_rows": null,
      "height": null,
      "justify_content": null,
      "justify_items": null,
      "left": null,
      "margin": null,
      "max_height": null,
      "max_width": null,
      "min_height": null,
      "min_width": null,
      "object_fit": null,
      "object_position": null,
      "order": null,
      "overflow": null,
      "overflow_x": null,
      "overflow_y": null,
      "padding": null,
      "right": null,
      "top": null,
      "visibility": null,
      "width": null
     }
    },
    "20e1fdcb4ba740508ef2c20fa21dc419": {
     "model_module": "@jupyter-widgets/controls",
     "model_module_version": "1.5.0",
     "model_name": "ProgressStyleModel",
     "state": {
      "_model_module": "@jupyter-widgets/controls",
      "_model_module_version": "1.5.0",
      "_model_name": "ProgressStyleModel",
      "_view_count": null,
      "_view_module": "@jupyter-widgets/base",
      "_view_module_version": "1.2.0",
      "_view_name": "StyleView",
      "bar_color": null,
      "description_width": ""
     }
    },
    "30fc101a2b5e402098474469d24c1aee": {
     "model_module": "@jupyter-widgets/controls",
     "model_module_version": "1.5.0",
     "model_name": "DescriptionStyleModel",
     "state": {
      "_model_module": "@jupyter-widgets/controls",
      "_model_module_version": "1.5.0",
      "_model_name": "DescriptionStyleModel",
      "_view_count": null,
      "_view_module": "@jupyter-widgets/base",
      "_view_module_version": "1.2.0",
      "_view_name": "StyleView",
      "description_width": ""
     }
    },
    "6f638931c7a44193b818199d3b040dcd": {
     "model_module": "@jupyter-widgets/controls",
     "model_module_version": "1.5.0",
     "model_name": "HTMLModel",
     "state": {
      "_dom_classes": [],
      "_model_module": "@jupyter-widgets/controls",
      "_model_module_version": "1.5.0",
      "_model_name": "HTMLModel",
      "_view_count": null,
      "_view_module": "@jupyter-widgets/controls",
      "_view_module_version": "1.5.0",
      "_view_name": "HTMLView",
      "description": "",
      "description_tooltip": null,
      "layout": "IPY_MODEL_f0d88da39c2d44a59776dc9ca985b271",
      "placeholder": "​",
      "style": "IPY_MODEL_30fc101a2b5e402098474469d24c1aee",
      "value": " 19655/19655 [02:42&lt;00:00, 122.49 examples/s]"
     }
    },
    "9c52b1e87a014065818e303dd4fb9aa7": {
     "model_module": "@jupyter-widgets/controls",
     "model_module_version": "1.5.0",
     "model_name": "FloatProgressModel",
     "state": {
      "_dom_classes": [],
      "_model_module": "@jupyter-widgets/controls",
      "_model_module_version": "1.5.0",
      "_model_name": "FloatProgressModel",
      "_view_count": null,
      "_view_module": "@jupyter-widgets/controls",
      "_view_module_version": "1.5.0",
      "_view_name": "ProgressView",
      "bar_style": "success",
      "description": "",
      "description_tooltip": null,
      "layout": "IPY_MODEL_0e8cc797a99a4cce97727021101080a2",
      "max": 19655,
      "min": 0,
      "orientation": "horizontal",
      "style": "IPY_MODEL_20e1fdcb4ba740508ef2c20fa21dc419",
      "value": 19655
     }
    },
    "a3a0080699564b3687a2e94ffd23e4f4": {
     "model_module": "@jupyter-widgets/base",
     "model_module_version": "1.2.0",
     "model_name": "LayoutModel",
     "state": {
      "_model_module": "@jupyter-widgets/base",
      "_model_module_version": "1.2.0",
      "_model_name": "LayoutModel",
      "_view_count": null,
      "_view_module": "@jupyter-widgets/base",
      "_view_module_version": "1.2.0",
      "_view_name": "LayoutView",
      "align_content": null,
      "align_items": null,
      "align_self": null,
      "border": null,
      "bottom": null,
      "display": null,
      "flex": null,
      "flex_flow": null,
      "grid_area": null,
      "grid_auto_columns": null,
      "grid_auto_flow": null,
      "grid_auto_rows": null,
      "grid_column": null,
      "grid_gap": null,
      "grid_row": null,
      "grid_template_areas": null,
      "grid_template_columns": null,
      "grid_template_rows": null,
      "height": null,
      "justify_content": null,
      "justify_items": null,
      "left": null,
      "margin": null,
      "max_height": null,
      "max_width": null,
      "min_height": null,
      "min_width": null,
      "object_fit": null,
      "object_position": null,
      "order": null,
      "overflow": null,
      "overflow_x": null,
      "overflow_y": null,
      "padding": null,
      "right": null,
      "top": null,
      "visibility": null,
      "width": null
     }
    },
    "ad6681aa0c4f4ea89cbb5e11b04566a2": {
     "model_module": "@jupyter-widgets/base",
     "model_module_version": "1.2.0",
     "model_name": "LayoutModel",
     "state": {
      "_model_module": "@jupyter-widgets/base",
      "_model_module_version": "1.2.0",
      "_model_name": "LayoutModel",
      "_view_count": null,
      "_view_module": "@jupyter-widgets/base",
      "_view_module_version": "1.2.0",
      "_view_name": "LayoutView",
      "align_content": null,
      "align_items": null,
      "align_self": null,
      "border": null,
      "bottom": null,
      "display": null,
      "flex": null,
      "flex_flow": null,
      "grid_area": null,
      "grid_auto_columns": null,
      "grid_auto_flow": null,
      "grid_auto_rows": null,
      "grid_column": null,
      "grid_gap": null,
      "grid_row": null,
      "grid_template_areas": null,
      "grid_template_columns": null,
      "grid_template_rows": null,
      "height": null,
      "justify_content": null,
      "justify_items": null,
      "left": null,
      "margin": null,
      "max_height": null,
      "max_width": null,
      "min_height": null,
      "min_width": null,
      "object_fit": null,
      "object_position": null,
      "order": null,
      "overflow": null,
      "overflow_x": null,
      "overflow_y": null,
      "padding": null,
      "right": null,
      "top": null,
      "visibility": null,
      "width": null
     }
    },
    "c151320c0c5e440398a8fd3b3bc87f5f": {
     "model_module": "@jupyter-widgets/controls",
     "model_module_version": "1.5.0",
     "model_name": "HBoxModel",
     "state": {
      "_dom_classes": [],
      "_model_module": "@jupyter-widgets/controls",
      "_model_module_version": "1.5.0",
      "_model_name": "HBoxModel",
      "_view_count": null,
      "_view_module": "@jupyter-widgets/controls",
      "_view_module_version": "1.5.0",
      "_view_name": "HBoxView",
      "box_style": "",
      "children": [
       "IPY_MODEL_09b7567643334697a27b0f10a0ef4c1f",
       "IPY_MODEL_9c52b1e87a014065818e303dd4fb9aa7",
       "IPY_MODEL_6f638931c7a44193b818199d3b040dcd"
      ],
      "layout": "IPY_MODEL_a3a0080699564b3687a2e94ffd23e4f4"
     }
    },
    "f0d88da39c2d44a59776dc9ca985b271": {
     "model_module": "@jupyter-widgets/base",
     "model_module_version": "1.2.0",
     "model_name": "LayoutModel",
     "state": {
      "_model_module": "@jupyter-widgets/base",
      "_model_module_version": "1.2.0",
      "_model_name": "LayoutModel",
      "_view_count": null,
      "_view_module": "@jupyter-widgets/base",
      "_view_module_version": "1.2.0",
      "_view_name": "LayoutView",
      "align_content": null,
      "align_items": null,
      "align_self": null,
      "border": null,
      "bottom": null,
      "display": null,
      "flex": null,
      "flex_flow": null,
      "grid_area": null,
      "grid_auto_columns": null,
      "grid_auto_flow": null,
      "grid_auto_rows": null,
      "grid_column": null,
      "grid_gap": null,
      "grid_row": null,
      "grid_template_areas": null,
      "grid_template_columns": null,
      "grid_template_rows": null,
      "height": null,
      "justify_content": null,
      "justify_items": null,
      "left": null,
      "margin": null,
      "max_height": null,
      "max_width": null,
      "min_height": null,
      "min_width": null,
      "object_fit": null,
      "object_position": null,
      "order": null,
      "overflow": null,
      "overflow_x": null,
      "overflow_y": null,
      "padding": null,
      "right": null,
      "top": null,
      "visibility": null,
      "width": null
     }
    },
    "f241d6fdeddd4328b2f6eacbd9ed8abe": {
     "model_module": "@jupyter-widgets/controls",
     "model_module_version": "1.5.0",
     "model_name": "DescriptionStyleModel",
     "state": {
      "_model_module": "@jupyter-widgets/controls",
      "_model_module_version": "1.5.0",
      "_model_name": "DescriptionStyleModel",
      "_view_count": null,
      "_view_module": "@jupyter-widgets/base",
      "_view_module_version": "1.2.0",
      "_view_name": "StyleView",
      "description_width": ""
     }
    }
   }
  }
 },
 "nbformat": 4,
 "nbformat_minor": 0
}
