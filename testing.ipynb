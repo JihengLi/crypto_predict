{
 "cells": [
  {
   "cell_type": "code",
   "execution_count": null,
   "id": "46c28592",
   "metadata": {},
   "outputs": [
    {
     "name": "stderr",
     "output_type": "stream",
     "text": [
      "/home/local/VANDERBILT/lij112/.local/lib/python3.10/site-packages/tqdm/auto.py:21: TqdmWarning: IProgress not found. Please update jupyter and ipywidgets. See https://ipywidgets.readthedocs.io/en/stable/user_install.html\n",
      "  from .autonotebook import tqdm as notebook_tqdm\n"
     ]
    }
   ],
   "source": [
    "import random\n",
    "import numpy as np\n",
    "import torch\n",
    "from torch import nn, optim\n",
    "\n",
    "from models import *"
   ]
  },
  {
   "cell_type": "code",
   "execution_count": null,
   "id": "8dd6ea37",
   "metadata": {},
   "outputs": [
    {
     "name": "stdout",
     "output_type": "stream",
     "text": [
      "Epoch loss: 21.742488145828247\n"
     ]
    }
   ],
   "source": [
    "model = Mamba2Multitask(\n",
    "    input_dim=46,\n",
    "    d_model=256,\n",
    "    d_state=64,\n",
    "    d_conv=4,\n",
    "    expand=2,\n",
    "    num_layers=4,\n",
    ").cuda()\n",
    "opt   = optim.Adam(model.parameters(), lr=1e-3)\n",
    "loss_fn = nn.MSELoss()\n",
    "\n",
    "B, L, D = 8, 8640, 46\n",
    "chunk_size = 1024\n",
    "x = torch.randn(B, L, D, device=\"cuda\")\n",
    "dir_tar = torch.randn(B, 1, device=\"cuda\")\n",
    "reg_tar = torch.randn(B, 3, device=\"cuda\")\n",
    "\n",
    "opt.zero_grad()\n",
    "total_loss = 0.0\n",
    "for start in range(0, L, chunk_size):\n",
    "    end = start + chunk_size\n",
    "    x_chunk = x[:, start:end]\n",
    "\n",
    "    dir_logits, reg_out = model(x_chunk)\n",
    "    loss = loss_fn(dir_logits, dir_tar) + loss_fn(reg_out, reg_tar)\n",
    "    loss.backward()\n",
    "\n",
    "    opt.step()\n",
    "    opt.zero_grad()\n",
    "    \n",
    "    for p in model.parameters():\n",
    "        if p.grad is not None:\n",
    "            p.grad.detach_()\n",
    "            p.grad.zero_()\n",
    "\n",
    "    total_loss += loss.item()\n",
    "print(\"Epoch loss:\", total_loss)"
   ]
  },
  {
   "cell_type": "code",
   "execution_count": null,
   "id": "35fb7a56",
   "metadata": {},
   "outputs": [],
   "source": []
  }
 ],
 "metadata": {
  "kernelspec": {
   "display_name": "Python 3",
   "language": "python",
   "name": "python3"
  },
  "language_info": {
   "codemirror_mode": {
    "name": "ipython",
    "version": 3
   },
   "file_extension": ".py",
   "mimetype": "text/x-python",
   "name": "python",
   "nbconvert_exporter": "python",
   "pygments_lexer": "ipython3",
   "version": "3.10.12"
  }
 },
 "nbformat": 4,
 "nbformat_minor": 5
}
